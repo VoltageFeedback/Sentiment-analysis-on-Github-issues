{
 "cells": [
  {
   "cell_type": "code",
   "execution_count": 1,
   "metadata": {},
   "outputs": [],
   "source": [
    "import pyspark\n",
    "import pyspark.sql.types as T\n",
    "import pyspark.sql.functions as F\n",
    "import requests\n",
    "\n",
    "sc = pyspark.SparkContext(appName=\"myAppName\")\n",
    "spark = pyspark.sql.SQLContext(sc)"
   ]
  },
  {
   "cell_type": "code",
   "execution_count": 2,
   "metadata": {},
   "outputs": [],
   "source": [
    "df = spark.read.format('com.databricks.spark.csv').options(header='true', inferschema='true').load('clean_tweet.csv')"
   ]
  },
  {
   "cell_type": "code",
   "execution_count": 3,
   "metadata": {},
   "outputs": [
    {
     "name": "stdout",
     "output_type": "stream",
     "text": [
      "+---+--------------------+------+\n",
      "|_c0|                text|target|\n",
      "+---+--------------------+------+\n",
      "|  0|awww that bummer ...|     0|\n",
      "|  1|is upset that he ...|     0|\n",
      "|  2|dived many times ...|     0|\n",
      "|  3|my whole body fee...|     0|\n",
      "|  4|no it not behavin...|     0|\n",
      "+---+--------------------+------+\n",
      "only showing top 5 rows\n",
      "\n"
     ]
    }
   ],
   "source": [
    "df.show(5)"
   ]
  },
  {
   "cell_type": "code",
   "execution_count": 4,
   "metadata": {},
   "outputs": [
    {
     "data": {
      "text/plain": [
       "1596041"
      ]
     },
     "execution_count": 4,
     "metadata": {},
     "output_type": "execute_result"
    }
   ],
   "source": [
    "df = df.dropna()\n",
    "df.count()"
   ]
  },
  {
   "cell_type": "code",
   "execution_count": 5,
   "metadata": {},
   "outputs": [],
   "source": [
    "(train_set, val_set) = df.randomSplit([0.9, 0.1], seed = 7)"
   ]
  },
  {
   "cell_type": "code",
   "execution_count": 6,
   "metadata": {},
   "outputs": [
    {
     "name": "stdout",
     "output_type": "stream",
     "text": [
      "+---+--------------------+------+--------------------+--------------------+--------------------+-----+\n",
      "|_c0|                text|target|               words|                  tf|            features|label|\n",
      "+---+--------------------+------+--------------------+--------------------+--------------------+-----+\n",
      "|  1|is upset that he ...|     0|[is, upset, that,...|(65536,[1444,2071...|(65536,[1444,2071...|  0.0|\n",
      "|  2|dived many times ...|     0|[dived, many, tim...|(65536,[2548,2888...|(65536,[2548,2888...|  0.0|\n",
      "|  3|my whole body fee...|     0|[my, whole, body,...|(65536,[158,11650...|(65536,[158,11650...|  0.0|\n",
      "|  4|no it not behavin...|     0|[no, it, not, beh...|(65536,[1968,4488...|(65536,[1968,4488...|  0.0|\n",
      "|  5|  not the whole crew|     0|[not, the, whole,...|(65536,[8026,3398...|(65536,[8026,3398...|  0.0|\n",
      "+---+--------------------+------+--------------------+--------------------+--------------------+-----+\n",
      "only showing top 5 rows\n",
      "\n"
     ]
    }
   ],
   "source": [
    "from pyspark.ml.feature import HashingTF, IDF, Tokenizer\n",
    "from pyspark.ml.feature import StringIndexer\n",
    "from pyspark.ml import Pipeline\n",
    "\n",
    "tokenizer = Tokenizer(inputCol=\"text\", outputCol=\"words\")\n",
    "hashtf = HashingTF(numFeatures=2**16, inputCol=\"words\", outputCol='tf')\n",
    "idf = IDF(inputCol='tf', outputCol=\"features\", minDocFreq=5) #minDocFreq: remove sparse terms\n",
    "label_stringIdx = StringIndexer(inputCol = \"target\", outputCol = \"label\")\n",
    "pipeline = Pipeline(stages=[tokenizer, hashtf, idf, label_stringIdx])\n",
    "\n",
    "pipelineFit = pipeline.fit(train_set)\n",
    "train_df = pipelineFit.transform(train_set)\n",
    "val_df = pipelineFit.transform(val_set)\n",
    "train_df.show(5)"
   ]
  },
  {
   "cell_type": "code",
   "execution_count": 7,
   "metadata": {},
   "outputs": [
    {
     "name": "stdout",
     "output_type": "stream",
     "text": [
      "ROC-AUC: 0.8582\n"
     ]
    }
   ],
   "source": [
    "from pyspark.ml.classification import LogisticRegression\n",
    "from pyspark.ml.evaluation import BinaryClassificationEvaluator\n",
    "\n",
    "lr = LogisticRegression(maxIter=100)\n",
    "lrModel = lr.fit(train_df)\n",
    "predictions = lrModel.transform(val_df)\n",
    "\n",
    "evaluator = BinaryClassificationEvaluator(rawPredictionCol=\"rawPrediction\")\n",
    "roc_auc = evaluator.evaluate(predictions)\n",
    "print(\"ROC-AUC: {0:.4f}\".format(roc_auc))"
   ]
  },
  {
   "cell_type": "code",
   "execution_count": 17,
   "metadata": {},
   "outputs": [],
   "source": [
    "lr_model_path = \"/hdfsData/\" + \"lr_model\"\n",
    "lrModel.write().overwrite().save(path=lr_model_path)"
   ]
  },
  {
   "cell_type": "code",
   "execution_count": 19,
   "metadata": {},
   "outputs": [
    {
     "name": "stdout",
     "output_type": "stream",
     "text": [
      "+---+--------------------+------+--------------------+--------------------+--------------------+-----+--------------------+--------------------+----------+\n",
      "|_c0|                text|target|               words|                  tf|            features|label|       rawPrediction|         probability|prediction|\n",
      "+---+--------------------+------+--------------------+--------------------+--------------------+-----+--------------------+--------------------+----------+\n",
      "|  0|awww that bummer ...|     0|[awww, that, bumm...|(65536,[8436,8847...|(65536,[8436,8847...|  0.0|[3.50500040497862...|[0.97082971151564...|       0.0|\n",
      "| 14|would ve been the...|     0|[would, ve, been,...|(65536,[14,731,24...|(65536,[14,731,24...|  0.0|[2.93168692076489...|[0.94939078957233...|       0.0|\n",
      "| 15|wish got to watch...|     0|[wish, got, to, w...|(65536,[8436,2063...|(65536,[8436,2063...|  0.0|[2.71689595828703...|[0.93801630460989...|       0.0|\n",
      "| 28|ooooh lol that le...|     0|[ooooh, lol, that...|(65536,[8026,1222...|(65536,[8026,1222...|  0.0|[1.04156984695185...|[0.73915279551712...|       0.0|\n",
      "| 29|meh almost lover ...|     0|[meh, almost, lov...|(65536,[11604,158...|(65536,[11604,158...|  0.0|[1.55201945740706...|[0.82520521286957...|       0.0|\n",
      "| 34|cry my asian eyes...|     0|[cry, my, asian, ...|(65536,[556,8436,...|(65536,[556,8436,...|  0.0|[1.67711426892334...|[0.84252203452930...|       0.0|\n",
      "| 42|sad sad sad do no...|     0|[sad, sad, sad, d...|(65536,[3266,7173...|(65536,[3266,7173...|  0.0|[16.2899790713052...|[0.99999991579227...|       0.0|\n",
      "| 66|damm back to scho...|     0|[damm, back, to, ...|(65536,[1198,8436...|(65536,[1198,8436...|  0.0|[1.98363656903269...|[0.87906828892808...|       0.0|\n",
      "| 67|mo jobs no money ...|     0|[mo, jobs, no, mo...|(65536,[2544,1168...|(65536,[2544,1168...|  0.0|[1.50577932668337...|[0.81843486074793...|       0.0|\n",
      "| 69|agreed saw the fa...|     0|[agreed, saw, the...|(65536,[6981,1282...|(65536,[6981,1282...|  0.0|[-0.3035143478616...|[0.42469859722646...|       1.0|\n",
      "| 78|think my arms are...|     0|[think, my, arms,...|(65536,[4492,1819...|(65536,[4492,1819...|  0.0|[1.22671396644969...|[0.77324292410433...|       0.0|\n",
      "| 82|      missin the boo|     0|  [missin, the, boo]|(65536,[38302,538...|(65536,[38302,538...|  0.0|[3.68277781762387...|[0.97546414334514...|       0.0|\n",
      "| 89|sorry babe my fam...|     0|[sorry, babe, my,...|(65536,[778,8431,...|(65536,[778,8431,...|  0.0|[-0.5789603327131...|[0.35917185616366...|       1.0|\n",
      "|102|behind on my clas...|     0|[behind, on, my, ...|(65536,[16332,312...|(65536,[16332,312...|  0.0|[1.02588384772348...|[0.73611711603085...|       0.0|\n",
      "|110|laying in bed wit...|     0|[laying, in, bed,...|(65536,[11635,157...|(65536,[11635,157...|  0.0|[0.03208746047905...|[0.50802117691117...|       0.0|\n",
      "|130|haha its so coooo...|     0|[haha, its, so, c...|(65536,[8436,1920...|(65536,[8436,1920...|  0.0|[-0.6500723742480...|[0.34297322814044...|       1.0|\n",
      "|135|            agh snow|     0|         [agh, snow]|(65536,[19044,456...|(65536,[19044,456...|  0.0|[0.23969604104159...|[0.55963874200107...|       0.0|\n",
      "|143|was intending to ...|     0|[was, intending, ...|(65536,[7006,8026...|(65536,[7006,8026...|  0.0|[2.89182646658337...|[0.94744090781729...|       0.0|\n",
      "|152|heroes just is no...|     0|[heroes, just, is...|(65536,[8026,1339...|(65536,[8026,1339...|  0.0|[0.66387796292245...|[0.66013098025575...|       0.0|\n",
      "|161|is alone downstai...|     0|[is, alone, downs...|(65536,[15889,218...|(65536,[15889,218...|  0.0|[1.68808512088017...|[0.84397216862207...|       0.0|\n",
      "+---+--------------------+------+--------------------+--------------------+--------------------+-----+--------------------+--------------------+----------+\n",
      "only showing top 20 rows\n",
      "\n"
     ]
    }
   ],
   "source": [
    "predictions.show()"
   ]
  },
  {
   "cell_type": "code",
   "execution_count": 25,
   "metadata": {},
   "outputs": [],
   "source": [
    "dataDF_raw = spark.read.json(\"clean_data.json\")"
   ]
  },
  {
   "cell_type": "code",
   "execution_count": 20,
   "metadata": {},
   "outputs": [
    {
     "name": "stdout",
     "output_type": "stream",
     "text": [
      "root\n",
      " |-- body: string (nullable = true)\n",
      " |-- closed_at: string (nullable = true)\n",
      " |-- created_at: string (nullable = true)\n",
      " |-- repo_name: string (nullable = true)\n",
      "\n"
     ]
    }
   ],
   "source": [
    "dataDF_raw.printSchema()"
   ]
  },
  {
   "cell_type": "code",
   "execution_count": 26,
   "metadata": {},
   "outputs": [],
   "source": [
    "dataDF = dataDF_raw.select(dataDF_raw.repo_name, dataDF_raw.body.alias('text'),\\\n",
    "                           dataDF_raw.created_at.cast('timestamp'), dataDF_raw.closed_at.cast('timestamp'))"
   ]
  },
  {
   "cell_type": "code",
   "execution_count": 27,
   "metadata": {},
   "outputs": [],
   "source": [
    "test_set = dataDF"
   ]
  },
  {
   "cell_type": "code",
   "execution_count": 28,
   "metadata": {},
   "outputs": [],
   "source": [
    "pipeline2 = Pipeline(stages=[tokenizer, hashtf, idf])\n",
    "pipelineFit2 = pipeline2.fit(test_set)\n",
    "test_df = pipelineFit2.transform(test_set)\n",
    "predictions = lrModel.transform(test_df)"
   ]
  },
  {
   "cell_type": "code",
   "execution_count": 29,
   "metadata": {},
   "outputs": [
    {
     "name": "stdout",
     "output_type": "stream",
     "text": [
      "+---------+--------------------+-------------------+-------------------+--------------------+--------------------+--------------------+--------------------+--------------------+----------+\n",
      "|repo_name|                text|         created_at|          closed_at|               words|                  tf|            features|       rawPrediction|         probability|prediction|\n",
      "+---------+--------------------+-------------------+-------------------+--------------------+--------------------+--------------------+--------------------+--------------------+----------+\n",
      "|     akka|added actorrefwit...|2019-04-26 06:29:46|               null|[added, actorrefw...|(65536,[1198,4141...|(65536,[1198,4141...|[-0.2441069779058...|[0.43927450016039...|       1.0|\n",
      "|     akka|evacuated-assembl...|2019-04-25 04:40:04|2019-04-25 04:59:23|[evacuated-assemb...|(65536,[571,2098,...|(65536,[571,2098,...|[2.30899832524215...|[0.90961953956084...|       0.0|\n",
      "|     akka|`java.time.durati...|2019-04-24 10:46:46|               null|[`java.time.durat...|(65536,[8543,1238...|(65536,[8543,1238...|[-1.7399206539553...|[0.14932301323337...|       1.0|\n",
      "|     akka|long term need im...|2019-04-23 15:23:24|2019-04-24 01:06:18|[long, term, need...|(65536,[12,9704,1...|(65536,[12,9704,1...|[-2.4802609805330...|[0.07725359596195...|       1.0|\n",
      "|     akka|: similar issue 2...|2019-04-23 05:19:24|2019-04-23 11:15:15|[:, similar, issu...|(65536,[3086,4604...|(65536,[3086,4604...|[-0.5941944736170...|[0.35567302708409...|       1.0|\n",
      "|     akka|seems like that e...|2019-04-22 14:37:03|2019-04-24 04:59:44|[seems, like, tha...|(65536,[11650,270...|(65536,[11650,270...|[-0.6969485125511...|[0.33248912875772...|       1.0|\n",
      "|     akka|symptoms previous...|2019-04-21 13:50:00|               null|[symptoms, previo...|(65536,[1055,3795...|(65536,[1055,3795...|[5.02258803120904...|[0.99345565450134...|       0.0|\n",
      "|     akka|hello guys have p...|2019-04-20 08:54:28|               null|[hello, guys, hav...|(65536,[124,543,5...|(65536,[124,543,5...|[0.17844000612730...|[0.54449200890487...|       0.0|\n",
      "|     akka|using akka have b...|2019-04-19 02:04:52|2019-04-24 01:09:21|[using, akka, hav...|(65536,[210,1055,...|(65536,[210,1055,...|[3.01922169187490...|[0.95343498335265...|       0.0|\n",
      "|     akka|                    |2019-04-18 05:52:22|2019-04-23 06:49:11|                  []|(65536,[52572],[1...|(65536,[52572],[4...|[-0.7167075898487...|[0.32811840569151...|       1.0|\n",
      "|     akka|once should: * [ ...|2019-04-17 05:10:30|               null|[once, should:, *...|(65536,[2613,5751...|(65536,[2613,5751...|[-0.6096709600581...|[0.35213426003162...|       1.0|\n",
      "|     akka|record future sim...|2019-04-16 07:45:52|2019-04-23 02:02:17|[record, future, ...|(65536,[2408,3171...|(65536,[2408,3171...|[-5.3112903845289...|[0.00491131379085...|       1.0|\n",
      "|     akka|'early initialize...|2019-04-16 05:50:59|               null|['early, initiali...|(65536,[2773,4496...|(65536,[2773,4496...|[-1.8711009671465...|[0.13341438285148...|       1.0|\n",
      "|     akka|just introducing ...|2019-04-16 04:45:20|2019-04-16 08:07:29|[just, introducin...|(65536,[156,4572,...|(65536,[156,4572,...|[-2.7488529097692...|[0.06015146622289...|       1.0|\n",
      "|     akka|typed watchwith d...|2019-04-15 11:38:55|2019-04-15 13:47:33|[typed, watchwith...|(65536,[4141,9859...|(65536,[4141,9859...|[-0.6683897552981...|[0.33885749523821...|       1.0|\n",
      "|     akka|becomes slower re...|2019-04-15 09:03:52|               null|[becomes, slower,...|(65536,[2148,6702...|(65536,[2148,6702...|[0.12475771592954...|[0.53114903789094...|       0.0|\n",
      "|     akka|                    |2019-04-15 07:50:59|2019-04-16 06:27:52|                  []|(65536,[52572],[1...|(65536,[52572],[4...|[-0.7167075898487...|[0.32811840569151...|       1.0|\n",
      "|     akka|                    |2019-04-15 07:44:36|2019-04-15 11:42:05|                  []|(65536,[52572],[1...|(65536,[52572],[4...|[-0.7167075898487...|[0.32811840569151...|       1.0|\n",
      "|     akka|currently there r...|2019-04-15 07:04:56|               null|[currently, there...|(65536,[1382,5728...|(65536,[1382,5728...|[-1.2627217842574...|[0.22050570806835...|       1.0|\n",
      "|     akka|avoid issues with...|2019-04-15 05:40:33|               null|[avoid, issues, w...|(65536,[3171,5540...|(65536,[3171,5540...|[-2.3965691228473...|[0.08343469244697...|       1.0|\n",
      "+---------+--------------------+-------------------+-------------------+--------------------+--------------------+--------------------+--------------------+--------------------+----------+\n",
      "only showing top 20 rows\n",
      "\n"
     ]
    }
   ],
   "source": [
    "predictions.show()"
   ]
  },
  {
   "cell_type": "code",
   "execution_count": 30,
   "metadata": {},
   "outputs": [],
   "source": [
    "preDF = predictions.select(predictions.repo_name, predictions.prediction.cast('int').alias('senti_score'),\\\n",
    "                           predictions.created_at, predictions.closed_at)"
   ]
  },
  {
   "cell_type": "code",
   "execution_count": 33,
   "metadata": {},
   "outputs": [
    {
     "name": "stdout",
     "output_type": "stream",
     "text": [
      "+-------------+------------+\n",
      "|    repo_name|issues_count|\n",
      "+-------------+------------+\n",
      "|       vscode|       66633|\n",
      "|           go|       18724|\n",
      "|      flutter|       16625|\n",
      "| react-native|       16001|\n",
      "|        ionic|       15061|\n",
      "|   tensorflow|       14723|\n",
      "|         atom|       14429|\n",
      "|        godot|       13837|\n",
      "|    cockroach|       13357|\n",
      "|         rust|       13254|\n",
      "|   ant-design|       12059|\n",
      "|       roslyn|       11889|\n",
      "|      rancher|       11701|\n",
      "|          sdk|       11630|\n",
      "|       corefx|       11518|\n",
      "|       kibana|       11006|\n",
      "|      element|       10652|\n",
      "|      angular|       10572|\n",
      "|         salt|        9902|\n",
      "|elasticsearch|        9533|\n",
      "+-------------+------------+\n",
      "only showing top 20 rows\n",
      "\n"
     ]
    }
   ],
   "source": [
    "preDF.createOrReplaceTempView(\"data\")\n",
    "preDF_issue_count = spark.sql(\"\"\"\n",
    "SELECT repo_name, count(1) issues_count\n",
    "FROM data\n",
    "GROUP BY repo_name\n",
    "ORDER BY issues_count DESC\n",
    "\"\"\")\n",
    "preDF_issue_count.show()"
   ]
  },
  {
   "cell_type": "code",
   "execution_count": 34,
   "metadata": {},
   "outputs": [
    {
     "data": {
      "text/plain": [
       "239"
      ]
     },
     "execution_count": 34,
     "metadata": {},
     "output_type": "execute_result"
    }
   ],
   "source": [
    "preDF_issue_count.count()"
   ]
  },
  {
   "cell_type": "code",
   "execution_count": 32,
   "metadata": {},
   "outputs": [
    {
     "data": {
      "text/plain": [
       "1064458"
      ]
     },
     "execution_count": 32,
     "metadata": {},
     "output_type": "execute_result"
    }
   ],
   "source": [
    "preDF.count()"
   ]
  },
  {
   "cell_type": "code",
   "execution_count": 35,
   "metadata": {},
   "outputs": [
    {
     "name": "stdout",
     "output_type": "stream",
     "text": [
      "+--------------------+-----+---------+\n",
      "|           repo_name| mean|stand_dev|\n",
      "+--------------------+-----+---------+\n",
      "|       homebrew-cask|  1.0|      0.0|\n",
      "|                taro|0.887|    0.316|\n",
      "|          youtube-dl|0.856|    0.352|\n",
      "|           spacemacs|0.756|    0.429|\n",
      "|      ant-design-pro|0.753|    0.431|\n",
      "|           kubespray|0.744|    0.437|\n",
      "|                 egg|0.743|    0.437|\n",
      "|        cert-manager| 0.74|    0.439|\n",
      "|               gitea| 0.74|    0.439|\n",
      "|            selenium| 0.73|    0.444|\n",
      "|             typeorm|0.728|    0.445|\n",
      "|              rclone|0.728|    0.445|\n",
      "|                tidb|0.725|    0.447|\n",
      "|            frontend|0.725|     0.45|\n",
      "|        Font-Awesome| 0.72|    0.449|\n",
      "|   mattermost-server|0.714|    0.452|\n",
      "|               servo|0.714|    0.452|\n",
      "|     DefinitelyTyped|0.714|    0.452|\n",
      "|office-ui-fabric-...|0.712|    0.453|\n",
      "|               sympy|0.706|    0.456|\n",
      "+--------------------+-----+---------+\n",
      "only showing top 20 rows\n",
      "\n"
     ]
    }
   ],
   "source": [
    "import pyspark.sql.functions as F\n",
    "\n",
    "preDF_mean = preDF.groupBy(\"repo_name\")\\\n",
    ".agg(F.bround(F.mean(\"senti_score\"), 3).alias(\"mean\"), F.bround(F.stddev(\"senti_score\"), 3).alias(\"stand_dev\"))\\\n",
    ".orderBy(\"mean\", ascending=False)\n",
    "preDF_mean.show()"
   ]
  },
  {
   "cell_type": "code",
   "execution_count": 36,
   "metadata": {},
   "outputs": [
    {
     "name": "stdout",
     "output_type": "stream",
     "text": [
      "+-----+---------+\n",
      "| mean|stand_dev|\n",
      "+-----+---------+\n",
      "|0.583|    0.493|\n",
      "+-----+---------+\n",
      "\n"
     ]
    }
   ],
   "source": [
    "preDF.agg(F.bround(F.mean(\"senti_score\"), 3).alias(\"mean\"), F.bround(F.stddev(\"senti_score\"), 3).alias(\"stand_dev\"))\\\n",
    ".show()"
   ]
  },
  {
   "cell_type": "code",
   "execution_count": 37,
   "metadata": {},
   "outputs": [],
   "source": [
    "import seaborn as sns\n",
    "import matplotlib.pyplot as plt\n",
    "import pandas as pd\n",
    "\n",
    "import matplotlib\n",
    "%matplotlib inline "
   ]
  },
  {
   "cell_type": "code",
   "execution_count": 40,
   "metadata": {},
   "outputs": [
    {
     "data": {
      "text/plain": [
       "<matplotlib.axes._subplots.AxesSubplot at 0x1c64f756fd0>"
      ]
     },
     "execution_count": 40,
     "metadata": {},
     "output_type": "execute_result"
    },
    {
     "data": {
      "image/png": "[encoded data removed]",
      "text/plain": [
       "<Figure size 720x360 with 1 Axes>"
      ]
     },
     "metadata": {
      "needs_background": "light"
     },
     "output_type": "display_data"
    }
   ],
   "source": [
    "preDF_mean.toPandas().plot(kind=\"bar\", x=\"repo_name\", y=\"mean\", figsize=(10,5), color=\"blue\")"
   ]
  },
  {
   "cell_type": "code",
   "execution_count": 42,
   "metadata": {},
   "outputs": [],
   "source": [
    "preDF_senti = preDF.select('repo_name', \"senti_score\")"
   ]
  },
  {
   "cell_type": "code",
   "execution_count": 44,
   "metadata": {},
   "outputs": [],
   "source": [
    "from pyspark.sql.functions import col,when,count\n",
    "\n",
    "preDF_senti_pd = preDF_senti.groupBy(\"repo_name\").agg(count(when((col(\"senti_score\")>=0.5),True)).alias('positive'),\\\n",
    "                                      count(when(col(\"senti_score\")<0.5,True)).alias('negative')).toPandas()"
   ]
  },
  {
   "cell_type": "code",
   "execution_count": 49,
   "metadata": {},
   "outputs": [
    {
     "data": {
      "image/png": "[encoded data removed]",
      "text/plain": [
       "<Figure size 720x576 with 1 Axes>"
      ]
     },
     "metadata": {
      "needs_background": "light"
     },
     "output_type": "display_data"
    }
   ],
   "source": [
    "from matplotlib import rc\n",
    "\n",
    "r = range(239)\n",
    "barWidth = 1\n",
    "plt.figure(figsize=(10,8))\n",
    "plt.bar(r, preDF_senti_pd['positive'], color='#b5ffb9', edgecolor='white', width=barWidth, label=\"positive\")\n",
    "plt.bar(r, preDF_senti_pd['negative'], bottom=preDF_senti_pd['positive'], \\\n",
    "        color='#f9bc86', edgecolor='white', width=barWidth, label=\"negative\")\n",
    "plt.xticks(r, preDF_senti_pd['repo_name'])\n",
    "plt.legend(loc='upper left', bbox_to_anchor=(1,1), ncol=1)\n",
    "\n",
    "plt.show()"
   ]
  },
  {
   "cell_type": "code",
   "execution_count": 38,
   "metadata": {},
   "outputs": [],
   "source": [
    "preDF_mean_pd = preDF_mean.select(\"repo_name\", preDF_mean['mean'].alias('senti_mean')).toPandas()"
   ]
  },
  {
   "cell_type": "code",
   "execution_count": 39,
   "metadata": {},
   "outputs": [
    {
     "data": {
      "text/plain": [
       "<matplotlib.axes._subplots.AxesSubplot at 0x1c64d69bd30>"
      ]
     },
     "execution_count": 39,
     "metadata": {},
     "output_type": "execute_result"
    },
    {
     "data": {
      "image/png": "[encoded data removed]",
      "text/plain": [
       "<Figure size 432x288 with 1 Axes>"
      ]
     },
     "metadata": {
      "needs_background": "light"
     },
     "output_type": "display_data"
    }
   ],
   "source": [
    "preDF_mean_pd.boxplot()"
   ]
  },
  {
   "cell_type": "code",
   "execution_count": 50,
   "metadata": {},
   "outputs": [],
   "source": [
    "from pyspark.sql.functions import dayofweek, hour"
   ]
  },
  {
   "cell_type": "code",
   "execution_count": 51,
   "metadata": {},
   "outputs": [
    {
     "name": "stdout",
     "output_type": "stream",
     "text": [
      "+---------+----------+-------+-----+---------+\n",
      "|dayofweek|issues_num|percent| mean|stand_dev|\n",
      "+---------+----------+-------+-----+---------+\n",
      "|        1|     82433|  7.744|0.579|    0.494|\n",
      "|        2|    171341| 16.097|0.585|    0.493|\n",
      "|        3|    187597| 17.624|0.583|    0.493|\n",
      "|        4|    191162| 17.959|0.582|    0.493|\n",
      "|        5|    188163| 17.677|0.583|    0.493|\n",
      "|        6|    164940| 15.495|0.584|    0.493|\n",
      "|        7|     78822|  7.405|0.578|    0.494|\n",
      "+---------+----------+-------+-----+---------+\n",
      "\n"
     ]
    }
   ],
   "source": [
    "preDF_dayofweek = preDF.select(dayofweek('created_at').alias(\"dayofweek\"), \"senti_score\")\n",
    "preDF_dayofweek_r = preDF_dayofweek.orderBy(\"dayofweek\").groupBy(\"dayofweek\")\\\n",
    ".agg(F.count(\"senti_score\").alias(\"issues_num\"), F.bround(F.count(\"senti_score\")/preDF.count()*100, 3).alias(\"percent\"), \\\n",
    "     F.bround(F.mean(\"senti_score\"), 3).alias(\"mean\"), F.bround(F.stddev(\"senti_score\"), 3).alias(\"stand_dev\"))\n",
    "preDF_dayofweek_r.show()"
   ]
  },
  {
   "cell_type": "code",
   "execution_count": 53,
   "metadata": {},
   "outputs": [
    {
     "name": "stdout",
     "output_type": "stream",
     "text": [
      "+---------+----------+-------+-----+---------+\n",
      "|timeofday|issues_num|percent| mean|stand_dev|\n",
      "+---------+----------+-------+-----+---------+\n",
      "|afternoon|    307904| 28.926|0.584|    0.493|\n",
      "|    night|    242400| 22.772| 0.58|    0.493|\n",
      "|  morning|    321401| 30.194|0.578|    0.494|\n",
      "|  evening|    192753| 18.108| 0.59|    0.492|\n",
      "+---------+----------+-------+-----+---------+\n",
      "\n"
     ]
    }
   ],
   "source": [
    "from pyspark.sql.functions import ceil, floor\n",
    "\n",
    "preDF_timeofday = preDF.select((when(floor(hour('created_at')/6) == 0, 'night')\\\n",
    "                                  .when(floor(hour('created_at')/6) == 1, 'morning')\\\n",
    "                                             .when(floor(hour('created_at')/6) == 2, 'afternoon')\\\n",
    "                                                        .otherwise('evening')).alias(\"timeofday\"), \"senti_score\")\n",
    "preDF_timeofday_r = preDF_timeofday.orderBy('senti_score').groupBy(\"timeofday\")\\\n",
    ".agg(F.count(\"senti_score\").alias(\"issues_num\"), F.bround(F.count(\"senti_score\")/preDF.count()*100, 3).alias(\"percent\"), \\\n",
    "     F.bround(F.mean(\"senti_score\"), 3).alias(\"mean\"), F.bround(F.stddev(\"senti_score\"), 3).alias(\"stand_dev\"))\n",
    "preDF_timeofday_r.show()\n",
    "\n",
    "# night, morning, afternoon, evening"
   ]
  },
  {
   "cell_type": "code",
   "execution_count": 54,
   "metadata": {},
   "outputs": [],
   "source": [
    "from scipy.stats import mannwhitneyu\n",
    "from scipy.stats import ranksums"
   ]
  },
  {
   "cell_type": "code",
   "execution_count": 56,
   "metadata": {},
   "outputs": [],
   "source": [
    "preDF_dayofweek_pd = preDF_dayofweek.toPandas()\n",
    "monday = preDF_dayofweek_pd.loc[preDF_dayofweek_pd['dayofweek'] == 1]\n",
    "tuesday = preDF_dayofweek_pd.loc[preDF_dayofweek_pd['dayofweek'] == 2]\n",
    "wednesday = preDF_dayofweek_pd.loc[preDF_dayofweek_pd['dayofweek'] == 3]\n",
    "thursday = preDF_dayofweek_pd.loc[preDF_dayofweek_pd['dayofweek'] == 4]\n",
    "friday = preDF_dayofweek_pd.loc[preDF_dayofweek_pd['dayofweek'] == 5]\n",
    "saturday = preDF_dayofweek_pd.loc[preDF_dayofweek_pd['dayofweek'] == 6]\n",
    "sunday = preDF_dayofweek_pd.loc[preDF_dayofweek_pd['dayofweek'] == 7]"
   ]
  },
  {
   "cell_type": "code",
   "execution_count": 57,
   "metadata": {},
   "outputs": [
    {
     "name": "stdout",
     "output_type": "stream",
     "text": [
      "0 1 0.006469964257925548\n",
      "0 2 0.038343616748278915\n",
      "0 4 0.038714727570423275\n",
      "0 5 0.010956286068048602\n",
      "1 3 0.03595883719573502\n",
      "1 6 0.0010186558317693802\n",
      "2 6 0.008461344699585456\n",
      "3 6 0.04261223136669141\n",
      "4 6 0.008556399766455083\n",
      "5 6 0.00192231881977555\n"
     ]
    }
   ],
   "source": [
    "df_list = [monday, tuesday, wednesday, thursday, friday, saturday, sunday]\n",
    "for i in range(len(df_list)):\n",
    "    for j in range(i+1, len(df_list)):\n",
    "        s, pvalue = mannwhitneyu(df_list[i][\"senti_score\"], df_list[j][\"senti_score\"])\n",
    "        if pvalue <= 0.05:\n",
    "            print(i, j, pvalue)"
   ]
  },
  {
   "cell_type": "code",
   "execution_count": 58,
   "metadata": {},
   "outputs": [],
   "source": [
    "preDF_timeofday_pd = preDF_timeofday.toPandas()\n",
    "morning = preDF_timeofday_pd.loc[preDF_timeofday_pd['timeofday'] == 'morning']\n",
    "afternoon = preDF_timeofday_pd.loc[preDF_timeofday_pd['timeofday'] == 'afternoon']\n",
    "evening = preDF_timeofday_pd.loc[preDF_timeofday_pd['timeofday'] == 'evening']\n",
    "night = preDF_timeofday_pd.loc[preDF_timeofday_pd['timeofday'] == 'night']"
   ]
  },
  {
   "cell_type": "code",
   "execution_count": 59,
   "metadata": {},
   "outputs": [
    {
     "name": "stdout",
     "output_type": "stream",
     "text": [
      "0 1 2.0628233399508542e-06\n",
      "0 2 1.1947422759989431e-17\n",
      "0 3 0.047957249392960054\n",
      "1 2 5.181904643792143e-06\n",
      "1 3 0.004303632335915692\n",
      "2 3 3.2073761579846e-11\n"
     ]
    }
   ],
   "source": [
    "df_list = [morning, afternoon, evening, night]\n",
    "for i in range(len(df_list)):\n",
    "    for j in range(i+1, len(df_list)):\n",
    "        s, pvalue = mannwhitneyu(df_list[i][\"senti_score\"], df_list[j][\"senti_score\"])\n",
    "        if pvalue <= 0.05:\n",
    "            print(i, j, pvalue)"
   ]
  },
  {
   "cell_type": "code",
   "execution_count": 60,
   "metadata": {},
   "outputs": [],
   "source": [
    "from pyspark.sql.functions import datediff"
   ]
  },
  {
   "cell_type": "code",
   "execution_count": 61,
   "metadata": {},
   "outputs": [],
   "source": [
    "preDF_datediff_0 = preDF.select(datediff(\"closed_at\", 'created_at').alias(\"time_span\"), \"senti_score\")\\\n",
    ".where(preDF.closed_at.isNotNull()).orderBy(\"time_span\", ascending=False).groupBy(\"time_span\")\\\n",
    ".agg(F.bround(F.mean(\"senti_score\"), 3).alias(\"senti_mean\"))"
   ]
  },
  {
   "cell_type": "code",
   "execution_count": 62,
   "metadata": {},
   "outputs": [
    {
     "data": {
      "text/plain": [
       "<matplotlib.axes._subplots.AxesSubplot at 0x1c64fdffc50>"
      ]
     },
     "execution_count": 62,
     "metadata": {},
     "output_type": "execute_result"
    },
    {
     "data": {
      "image/png": "[encoded data removed]",
      "text/plain": [
       "<Figure size 432x288 with 1 Axes>"
      ]
     },
     "metadata": {
      "needs_background": "light"
     },
     "output_type": "display_data"
    }
   ],
   "source": [
    "preDF_datediff_0.toPandas().boxplot(column='time_span')"
   ]
  },
  {
   "cell_type": "code",
   "execution_count": 64,
   "metadata": {},
   "outputs": [],
   "source": [
    "from scipy.stats import spearmanr"
   ]
  },
  {
   "cell_type": "code",
   "execution_count": 65,
   "metadata": {},
   "outputs": [
    {
     "data": {
      "text/plain": [
       "SpearmanrResult(correlation=0.10962818154670297, pvalue=6.466715789175388e-08)"
      ]
     },
     "execution_count": 65,
     "metadata": {},
     "output_type": "execute_result"
    }
   ],
   "source": [
    "preDF_datediff_pd_0 = preDF_datediff_0.toPandas()\n",
    "spearmanr(preDF_datediff_pd_0['time_span'], preDF_datediff_pd_0['senti_mean'])"
   ]
  },
  {
   "cell_type": "code",
   "execution_count": 68,
   "metadata": {},
   "outputs": [
    {
     "name": "stdout",
     "output_type": "stream",
     "text": [
      "+---+----------+\n",
      "|bin|senti_mean|\n",
      "+---+----------+\n",
      "| 42|       0.0|\n",
      "| 41|       1.0|\n",
      "| 40|     0.333|\n",
      "| 39|       1.0|\n",
      "| 38|       1.0|\n",
      "| 37|     0.667|\n",
      "| 36|       1.0|\n",
      "| 35|       0.8|\n",
      "| 34|       1.0|\n",
      "| 33|     0.333|\n",
      "| 32|       1.0|\n",
      "| 31|       1.0|\n",
      "| 30|       1.0|\n",
      "| 29|       0.4|\n",
      "| 28|     0.667|\n",
      "| 27|     0.438|\n",
      "| 26|     0.667|\n",
      "| 25|     0.718|\n",
      "| 24|     0.611|\n",
      "| 23|       0.6|\n",
      "+---+----------+\n",
      "only showing top 20 rows\n",
      "\n"
     ]
    }
   ],
   "source": [
    "preDF_datediff = preDF.select(ceil(datediff(\"closed_at\", 'created_at')/100).alias(\"bin\"), \"senti_score\")\\\n",
    ".where(preDF.closed_at.isNotNull()).orderBy(\"bin\", ascending=False).groupBy(\"bin\")\\\n",
    ".agg(F.bround(F.mean(\"senti_score\"), 3).alias(\"senti_mean\"))\n",
    "preDF_datediff.show()"
   ]
  },
  {
   "cell_type": "code",
   "execution_count": 69,
   "metadata": {},
   "outputs": [
    {
     "data": {
      "text/plain": [
       "<matplotlib.axes._subplots.AxesSubplot at 0x1c6502eb5f8>"
      ]
     },
     "execution_count": 69,
     "metadata": {},
     "output_type": "execute_result"
    },
    {
     "data": {
      "image/png": "[encoded data removed]",
      "text/plain": [
       "<Figure size 720x360 with 1 Axes>"
      ]
     },
     "metadata": {
      "needs_background": "light"
     },
     "output_type": "display_data"
    }
   ],
   "source": [
    "preDF_datediff.toPandas().plot(kind=\"bar\", x=\"bin\", y=\"senti_mean\", figsize=(10,5), color=\"blue\")"
   ]
  }
 ],
 "metadata": {
  "kernelspec": {
   "display_name": "Python 3",
   "language": "python",
   "name": "python3"
  },
  "language_info": {
   "codemirror_mode": {
    "name": "ipython",
    "version": 3
   },
   "file_extension": ".py",
   "mimetype": "text/x-python",
   "name": "python",
   "nbconvert_exporter": "python",
   "pygments_lexer": "ipython3",
   "version": "3.7.1"
  }
 },
 "nbformat": 4,
 "nbformat_minor": 2
}
