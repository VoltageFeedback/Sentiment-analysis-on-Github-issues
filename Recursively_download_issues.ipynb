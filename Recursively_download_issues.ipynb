{
 "cells": [
  {
   "cell_type": "code",
   "execution_count": 1,
   "metadata": {},
   "outputs": [],
   "source": [
    "import json\n",
    "\n",
    "repo_list = []\n",
    "for line in open('results-sorted-by-star.json', 'r'):\n",
    "    dic = json.loads(line)\n",
    "    repo_name = dic['repo_name']\n",
    "    repo_list.append(repo_name)\n",
    "    "
   ]
  },
  {
   "cell_type": "code",
   "execution_count": 2,
   "metadata": {},
   "outputs": [],
   "source": [
    "import os\n",
    "import requests\n",
    "\n",
    "for i in range(70):\n",
    "    repo_name = repo_list[i]\n",
    "    api = \"https://api.github.com/repos/\"+repo_name+\"/issues?state=all&since=2017-01-01&page=1&per_page=100\"\n",
    "    username = 'voltagefeedback'\n",
    "    password = ''\n",
    "    another_page=True\n",
    "    a = 0\n",
    "    try: \n",
    "        os.mkdir('Data/'+repo_name.replace('/', '_'))\n",
    "    except:\n",
    "        print('start!')\n",
    "    while another_page:\n",
    "        response = requests.get(api, auth=(username, password))\n",
    "        a = a+1\n",
    "        json_name = repo_name.replace('/', '_')+'_issues_'+str(a)+'.json'\n",
    "        with open('Data/'+repo_name.replace('/', '_')+'/'+json_name, 'w') as f:\n",
    "            for issue in response.json():\n",
    "                if not \"pull_request\" in issue:\n",
    "                    json.dump(issue, f)\n",
    "                    f.write('\\n')\n",
    "        if 'next' in response.links:\n",
    "            api = response.links['next']['url']\n",
    "        else:\n",
    "            another_page=False"
   ]
  },
  {
   "cell_type": "code",
   "execution_count": 7,
   "metadata": {},
   "outputs": [
    {
     "name": "stdout",
     "output_type": "stream",
     "text": [
      "3\n",
      "4\n",
      "5\n"
     ]
    }
   ],
   "source": [
    "import os\n",
    "import requests\n",
    "\n",
    "for i in range(3, 6):\n",
    "    repo_name = repo_list[i]\n",
    "    api = \"https://api.github.com/repos/\"+repo_name+\"/issues?state=all&since=2018-01-01&page=1&per_page=100\"\n",
    "    username = 'voltagefeedback2'\n",
    "    password = ''\n",
    "    another_page=True\n",
    "    a = 0\n",
    "    try:\n",
    "        os.mkdir(repo_name.replace('/', '_'))\n",
    "    except:\n",
    "        print('start!')\n",
    "    while another_page:\n",
    "        response = requests.get(api, auth=(username, password))\n",
    "        a = a+1\n",
    "        json_name = repo_name.replace('/', '_')+'_issues_'+str(a)+'.json'\n",
    "        with open(repo_name.replace('/', '_')+'/'+json_name, 'w') as f:\n",
    "            for issue in response.json():\n",
    "                if not \"pull_request\" in issue:\n",
    "                    json.dump(issue, f)\n",
    "                    f.write('\\n')\n",
    "        if 'next' in response.links:\n",
    "            api = response.links['next']['url']\n",
    "        else:\n",
    "            another_page=False"
   ]
  },
  {
   "cell_type": "code",
   "execution_count": 6,
   "metadata": {},
   "outputs": [
    {
     "name": "stdout",
     "output_type": "stream",
     "text": [
      "6\n",
      "7\n",
      "8\n"
     ]
    }
   ],
   "source": [
    "import os\n",
    "import requests\n",
    "\n",
    "for i in range(6, 9):\n",
    "    repo_name = repo_list[i]\n",
    "    api = \"https://api.github.com/repos/\"+repo_name+\"/issues?state=all&since=2018-01-01&page=1&per_page=100\"\n",
    "    username = 'voltagefeedback3'\n",
    "    password = ''\n",
    "    another_page=True\n",
    "    a = 0\n",
    "    try:\n",
    "        os.mkdir(repo_name.replace('/', '_'))\n",
    "    except:\n",
    "        print('start!')\n",
    "    while another_page:\n",
    "        response = requests.get(api, auth=(username, password))\n",
    "        a = a+1\n",
    "        json_name = repo_name.replace('/', '_')+'_issues_'+str(a)+'.json'\n",
    "        with open(repo_name.replace('/', '_')+'/'+json_name, 'w') as f:\n",
    "            for issue in response.json():\n",
    "                if not \"pull_request\" in issue:\n",
    "                    json.dump(issue, f)\n",
    "                    f.write('\\n')\n",
    "        if 'next' in response.links:\n",
    "            api = response.links['next']['url']\n",
    "        else:\n",
    "            another_page=False"
   ]
  },
  {
   "cell_type": "code",
   "execution_count": 14,
   "metadata": {},
   "outputs": [
    {
     "name": "stdout",
     "output_type": "stream",
     "text": [
      "start!\n"
     ]
    }
   ],
   "source": [
    "import os\n",
    "import requests\n",
    "\n",
    "for i in range(9, 10):\n",
    "    repo_name = repo_list[i]\n",
    "    api = \"https://api.github.com/repos/\"+repo_name+\"/issues?state=all&since=2018-01-01&page=1&per_page=100\"\n",
    "    username = 'voltagefeedback3'\n",
    "    password = ''\n",
    "    another_page=True\n",
    "    a = 0\n",
    "    try:\n",
    "        os.mkdir(repo_name.replace('/', '_'))\n",
    "    except:\n",
    "        print('start!')\n",
    "    while another_page:\n",
    "        response = requests.get(api, auth=(username, password))\n",
    "        a = a+1\n",
    "        json_name = repo_name.replace('/', '_')+'_issues_'+str(a)+'.json'\n",
    "        with open(repo_name.replace('/', '_')+'/'+json_name, 'w') as f:\n",
    "            for issue in response.json():\n",
    "                if not \"pull_request\" in issue:\n",
    "                    json.dump(issue, f)\n",
    "                    f.write('\\n')\n",
    "        if 'next' in response.links:\n",
    "            api = response.links['next']['url']\n",
    "        else:\n",
    "            another_page=False"
   ]
  },
  {
   "cell_type": "code",
   "execution_count": 16,
   "metadata": {},
   "outputs": [
    {
     "name": "stdout",
     "output_type": "stream",
     "text": [
      "start!\n"
     ]
    }
   ],
   "source": [
    "import os\n",
    "import requests\n",
    "\n",
    "for i in range(10, 20):\n",
    "    repo_name = repo_list[i]\n",
    "    api = \"https://api.github.com/repos/\"+repo_name+\"/issues?state=all&since=2018-01-01&page=1&per_page=100\"\n",
    "    username = 'voltagefeedback2'\n",
    "    password = ''\n",
    "    another_page=True\n",
    "    a = 0\n",
    "    try:\n",
    "        os.mkdir(repo_name.replace('/', '_'))\n",
    "    except:\n",
    "        print('start!')\n",
    "    while another_page:\n",
    "        response = requests.get(api, auth=(username, password))\n",
    "        a = a+1\n",
    "        json_name = repo_name.replace('/', '_')+'_issues_'+str(a)+'.json'\n",
    "        with open(repo_name.replace('/', '_')+'/'+json_name, 'w') as f:\n",
    "            for issue in response.json():\n",
    "                if not \"pull_request\" in issue:\n",
    "                    json.dump(issue, f)\n",
    "                    f.write('\\n')\n",
    "        if 'next' in response.links:\n",
    "            api = response.links['next']['url']\n",
    "        else:\n",
    "            another_page=False"
   ]
  },
  {
   "cell_type": "code",
   "execution_count": 22,
   "metadata": {},
   "outputs": [],
   "source": [
    "import os\n",
    "import requests\n",
    "\n",
    "for i in range(20, 21):\n",
    "    repo_name = repo_list[i]\n",
    "    api = \"https://api.github.com/repos/\"+repo_name+\"/issues?state=all&since=2018-01-01&page=1&per_page=100\"\n",
    "    username = 'voltagefeedback3'\n",
    "    password = ''\n",
    "    another_page=True\n",
    "    a = 0\n",
    "    try:\n",
    "        os.mkdir(repo_name.replace('/', '_'))\n",
    "    except:\n",
    "        print('start!')\n",
    "    while another_page:\n",
    "        response = requests.get(api, auth=(username, password))\n",
    "        a = a+1\n",
    "        json_name = repo_name.replace('/', '_')+'_issues_'+str(a)+'.json'\n",
    "        with open(repo_name.replace('/', '_')+'/'+json_name, 'w') as f:\n",
    "            for issue in response.json():\n",
    "                if not \"pull_request\" in issue:\n",
    "                    json.dump(issue, f)\n",
    "                    f.write('\\n')\n",
    "        if 'next' in response.links:\n",
    "            api = response.links['next']['url']\n",
    "        else:\n",
    "            another_page=False"
   ]
  },
  {
   "cell_type": "code",
   "execution_count": 30,
   "metadata": {},
   "outputs": [],
   "source": [
    "import os\n",
    "import requests\n",
    "\n",
    "for i in range(21, 22):\n",
    "    repo_name = repo_list[i]\n",
    "    api = \"https://api.github.com/repos/\"+repo_name+\"/issues?state=all&since=2018-01-01&page=1&per_page=100\"\n",
    "    username = 'voltagefeedback3'\n",
    "    password = ''\n",
    "    another_page=True\n",
    "    a = 0\n",
    "    try:\n",
    "        os.mkdir(repo_name.replace('/', '_'))\n",
    "    except:\n",
    "        print('start!')\n",
    "    while another_page:\n",
    "        response = requests.get(api, auth=(username, password))\n",
    "        a = a+1\n",
    "        json_name = repo_name.replace('/', '_')+'_issues_'+str(a)+'.json'\n",
    "        with open(repo_name.replace('/', '_')+'/'+json_name, 'w') as f:\n",
    "            for issue in response.json():\n",
    "                if not \"pull_request\" in issue:\n",
    "                    json.dump(issue, f)\n",
    "                    f.write('\\n')\n",
    "        if 'next' in response.links:\n",
    "            api = response.links['next']['url']\n",
    "        else:\n",
    "            another_page=False"
   ]
  },
  {
   "cell_type": "code",
   "execution_count": 31,
   "metadata": {},
   "outputs": [
    {
     "name": "stdout",
     "output_type": "stream",
     "text": [
      "<Response [200]>\n"
     ]
    }
   ],
   "source": [
    "from pprint import pprint\n",
    "pprint(response)"
   ]
  },
  {
   "cell_type": "code",
   "execution_count": null,
   "metadata": {},
   "outputs": [],
   "source": []
  }
 ],
 "metadata": {
  "kernelspec": {
   "display_name": "Python 3",
   "language": "python",
   "name": "python3"
  },
  "language_info": {
   "codemirror_mode": {
    "name": "ipython",
    "version": 3
   },
   "file_extension": ".py",
   "mimetype": "text/x-python",
   "name": "python",
   "nbconvert_exporter": "python",
   "pygments_lexer": "ipython3",
   "version": "3.7.1"
  }
 },
 "nbformat": 4,
 "nbformat_minor": 2
}
