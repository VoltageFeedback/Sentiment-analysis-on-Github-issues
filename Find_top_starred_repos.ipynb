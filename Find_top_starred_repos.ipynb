{
 "cells": [
  {
   "cell_type": "code",
   "execution_count": 1,
   "metadata": {},
   "outputs": [],
   "source": [
    "import json\n",
    "from pprint import pprint\n",
    "import requests"
   ]
  },
  {
   "cell_type": "code",
   "execution_count": 2,
   "metadata": {},
   "outputs": [],
   "source": [
    "# To get information of repos\n",
    "\n",
    "dic0 = {}\n",
    "for line in open('results-500.json', 'r'):\n",
    "    dic = json.loads(line)\n",
    "    repo_name = dic['repo_name']\n",
    "    url = \"https://api.github.com/repos/\"+repo_name\n",
    "    username = 'voltagefeedback2'\n",
    "    token = 'Sure2206'\n",
    "    response = requests.get(url, auth=(username,token))\n",
    "    dic_repo = {}\n",
    "    if 'stargazers_count' in response.json() and not response.json()['language'] is None:\n",
    "        dic_repo['repo_name'] = repo_name\n",
    "        dic_repo['stargazers_count'] = response.json()['stargazers_count']\n",
    "        dic_repo['language'] = response.json()['language']\n",
    "        dic0[repo_name] = dic_repo\n",
    "    "
   ]
  },
  {
   "cell_type": "code",
   "execution_count": 3,
   "metadata": {},
   "outputs": [],
   "source": [
    "dic_sorted = sorted(dic0.keys(), key=lambda x: (dic0[x]['stargazers_count']), reverse=True)"
   ]
  },
  {
   "cell_type": "code",
   "execution_count": 4,
   "metadata": {},
   "outputs": [
    {
     "name": "stdout",
     "output_type": "stream",
     "text": [
      "{'repo_name': 'freeCodeCamp/freeCodeCamp', 'stargazers_count': 302070, 'language': 'JavaScript'}\n",
      "{'repo_name': 'vuejs/vue', 'stargazers_count': 136845, 'language': 'JavaScript'}\n",
      "{'repo_name': 'twbs/bootstrap', 'stargazers_count': 132844, 'language': 'JavaScript'}\n",
      "{'repo_name': 'facebook/react', 'stargazers_count': 127847, 'language': 'JavaScript'}\n",
      "{'repo_name': 'tensorflow/tensorflow', 'stargazers_count': 126323, 'language': 'C++'}\n",
      "{'repo_name': 'facebook/react-native', 'stargazers_count': 76435, 'language': 'JavaScript'}\n",
      "{'repo_name': 'Microsoft/vscode', 'stargazers_count': 74323, 'language': 'TypeScript'}\n",
      "{'repo_name': 'electron/electron', 'stargazers_count': 72571, 'language': 'C++'}\n",
      "{'repo_name': 'facebook/create-react-app', 'stargazers_count': 66811, 'language': 'JavaScript'}\n",
      "{'repo_name': 'flutter/flutter', 'stargazers_count': 61345, 'language': 'Dart'}\n"
     ]
    }
   ],
   "source": [
    "for i in range(10):\n",
    "    print(dic0[dic_sorted[i]])"
   ]
  },
  {
   "cell_type": "code",
   "execution_count": 5,
   "metadata": {},
   "outputs": [],
   "source": [
    "with open('results-sorted-by-star.json', 'w') as fp:\n",
    "    for i in range(len(dic0)):\n",
    "        json.dump(dic0[dic_sorted[i]], fp)\n",
    "        fp.write('\\n')"
   ]
  },
  {
   "cell_type": "code",
   "execution_count": null,
   "metadata": {},
   "outputs": [],
   "source": []
  }
 ],
 "metadata": {
  "kernelspec": {
   "display_name": "Python 3",
   "language": "python",
   "name": "python3"
  },
  "language_info": {
   "codemirror_mode": {
    "name": "ipython",
    "version": 3
   },
   "file_extension": ".py",
   "mimetype": "text/x-python",
   "name": "python",
   "nbconvert_exporter": "python",
   "pygments_lexer": "ipython3",
   "version": "3.7.1"
  }
 },
 "nbformat": 4,
 "nbformat_minor": 2
}
