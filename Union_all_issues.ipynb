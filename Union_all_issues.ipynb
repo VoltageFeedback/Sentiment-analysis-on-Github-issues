{
 "cells": [
  {
   "cell_type": "code",
   "execution_count": 81,
   "metadata": {},
   "outputs": [],
   "source": [
    "import os\n",
    "import glob\n",
    "import json\n",
    "\n",
    "path = 'C:\\\\Users\\\\79241\\\\Desktop\\\\MIE1512\\\\Project\\\\Data'\n",
    "\n",
    "folders = []\n",
    "\n",
    "# r=root, d=directories, f = files\n",
    "for r, d, f in os.walk(path):\n",
    "    for folder in d:\n",
    "        folders.append(os.path.join(r, folder))\n",
    "\n",
    "with open('data.json', 'w') as f0:\n",
    "    for direc in folders:\n",
    "        repo_name = direc.split('_')[-1]\n",
    "        for filename in glob.glob(os.path.join(direc, '*.json')):\n",
    "            for line in open(filename, 'r'):\n",
    "                dic = json.loads(line)\n",
    "                if isinstance(dic, dict) and dic != {}:   \n",
    "                    dic['repo_name'] = repo_name\n",
    "                    json.dump(dic, f0)\n",
    "                    f0.write('\\n')"
   ]
  },
  {
   "cell_type": "code",
   "execution_count": null,
   "metadata": {},
   "outputs": [],
   "source": []
  }
 ],
 "metadata": {
  "kernelspec": {
   "display_name": "Python 3",
   "language": "python",
   "name": "python3"
  },
  "language_info": {
   "codemirror_mode": {
    "name": "ipython",
    "version": 3
   },
   "file_extension": ".py",
   "mimetype": "text/x-python",
   "name": "python",
   "nbconvert_exporter": "python",
   "pygments_lexer": "ipython3",
   "version": "3.7.1"
  }
 },
 "nbformat": 4,
 "nbformat_minor": 2
}
